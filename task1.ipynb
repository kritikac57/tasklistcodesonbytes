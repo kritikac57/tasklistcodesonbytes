{
  "nbformat": 4,
  "nbformat_minor": 0,
  "metadata": {
    "colab": {
      "provenance": [],
      "authorship_tag": "ABX9TyMkapWTINNzQVIpVb3KzQT3",
      "include_colab_link": true
    },
    "kernelspec": {
      "name": "python3",
      "display_name": "Python 3"
    },
    "language_info": {
      "name": "python"
    }
  },
  "cells": [
    {
      "cell_type": "markdown",
      "metadata": {
        "id": "view-in-github",
        "colab_type": "text"
      },
      "source": [
        "<a href=\"https://colab.research.google.com/github/kritikac57/tasklistcodesonbytes/blob/main/task1.ipynb\" target=\"_parent\"><img src=\"https://colab.research.google.com/assets/colab-badge.svg\" alt=\"Open In Colab\"/></a>"
      ]
    },
    {
      "cell_type": "code",
      "execution_count": null,
      "metadata": {
        "id": "pvlbtLI6uiCm"
      },
      "outputs": [],
      "source": []
    },
    {
      "cell_type": "code",
      "source": [
        "import pandas as pd\n",
        "import requests\n",
        "api_url= 'https://jsonplaceholder.typicode.com/todos'\n",
        "response = requests.get(api_url)\n",
        "data = response.json()\n",
        "\n",
        "# Creating  a DataFrame using Pandas\n",
        "dataset = pd.DataFrame(data)\n",
        "\n",
        "# Saving the DataFrame to a CSV file\n",
        "dataset.to_csv('dataset.csv', index=False)\n",
        "\n",
        "print('CSV dataset created successfully!')\n",
        "print(dataset)\n"
      ],
      "metadata": {
        "colab": {
          "base_uri": "https://localhost:8080/"
        },
        "id": "hm2dqFJlunNg",
        "outputId": "96d8bb43-952f-4abf-84dc-ffd7e4d239aa"
      },
      "execution_count": 3,
      "outputs": [
        {
          "output_type": "stream",
          "name": "stdout",
          "text": [
            "CSV dataset created successfully!\n",
            "     userId   id                                              title  completed\n",
            "0         1    1                                 delectus aut autem      False\n",
            "1         1    2                 quis ut nam facilis et officia qui      False\n",
            "2         1    3                                fugiat veniam minus      False\n",
            "3         1    4                                   et porro tempora       True\n",
            "4         1    5  laboriosam mollitia et enim quasi adipisci qui...      False\n",
            "..      ...  ...                                                ...        ...\n",
            "195      10  196                consequuntur aut ut fugit similique       True\n",
            "196      10  197                  dignissimos quo nobis earum saepe       True\n",
            "197      10  198                       quis eius est sint explicabo       True\n",
            "198      10  199                       numquam repellendus a magnam       True\n",
            "199      10  200                       ipsam aperiam voluptates qui      False\n",
            "\n",
            "[200 rows x 4 columns]\n"
          ]
        }
      ]
    }
  ]
}