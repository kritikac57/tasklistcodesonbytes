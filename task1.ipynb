{
  "nbformat": 4,
  "nbformat_minor": 0,
  "metadata": {
    "colab": {
      "provenance": []
    },
    "kernelspec": {
      "name": "python3",
      "display_name": "Python 3"
    },
    "language_info": {
      "name": "python"
    }
  },
  "cells": [
    {
      "cell_type": "code",
      "execution_count": null,
      "metadata": {
        "id": "pvlbtLI6uiCm"
      },
      "outputs": [],
      "source": []
    },
    {
      "cell_type": "code",
      "source": [
        "\n"
      ],
      "metadata": {
        "colab": {
          "base_uri": "https://localhost:8080/"
        },
        "id": "hm2dqFJlunNg",
        "outputId": "28250826-df9f-49cb-e3b0-ccdb1e53725e"
      },
      "execution_count": 2,
      "outputs": [
        {
          "output_type": "stream",
          "name": "stdout",
          "text": [
            "CSV dataset created successfully!\n",
            "     userId   id                                              title  completed\n",
            "0         1    1                                 delectus aut autem      False\n",
            "1         1    2                 quis ut nam facilis et officia qui      False\n",
            "2         1    3                                fugiat veniam minus      False\n",
            "3         1    4                                   et porro tempora       True\n",
            "4         1    5  laboriosam mollitia et enim quasi adipisci qui...      False\n",
            "..      ...  ...                                                ...        ...\n",
            "195      10  196                consequuntur aut ut fugit similique       True\n",
            "196      10  197                  dignissimos quo nobis earum saepe       True\n",
            "197      10  198                       quis eius est sint explicabo       True\n",
            "198      10  199                       numquam repellendus a magnam       True\n",
            "199      10  200                       ipsam aperiam voluptates qui      False\n",
            "\n",
            "[200 rows x 4 columns]\n"
          ]
        }
      ]
    }
  ]
}